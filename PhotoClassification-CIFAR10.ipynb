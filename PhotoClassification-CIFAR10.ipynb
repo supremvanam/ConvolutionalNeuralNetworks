{
 "cells": [
  {
   "cell_type": "code",
   "execution_count": 1,
   "metadata": {},
   "outputs": [],
   "source": [
    "import numpy as np\n",
    "import keras\n",
    "from keras.datasets import cifar10\n",
    "from keras.models import Model\n",
    "from keras.layers import Dense, Input\n",
    "from keras.layers import Conv2D, Dropout, Flatten, MaxPooling2D,Activation\n",
    "from keras import backend as k\n",
    "from keras.utils import np_utils\n",
    "from keras.models import Sequential\n",
    "import ssl"
   ]
  },
  {
   "cell_type": "code",
   "execution_count": 2,
   "metadata": {},
   "outputs": [],
   "source": [
    "# Disabling the SSL because Google requires us to have the SSL certificate for downloading the dataset\n",
    "ssl._create_default_https_context = ssl._create_unverified_context"
   ]
  },
  {
   "cell_type": "code",
   "execution_count": 3,
   "metadata": {},
   "outputs": [],
   "source": [
    "(x_train, y_train), (x_test, y_test) = cifar10.load_data()"
   ]
  },
  {
   "cell_type": "code",
   "execution_count": 4,
   "metadata": {},
   "outputs": [],
   "source": [
    "# Splitting and setting test and train values\n",
    "x_train = x_train.astype('float32')\n",
    "x_test = x_test.astype('float32')\n",
    "x_train /= 255\n",
    "x_test /= 255\n",
    "\n",
    "y_train = keras.utils.np_utils.to_categorical(y_train,10)\n",
    "y_test = keras.utils.np_utils.to_categorical(y_test,10)"
   ]
  },
  {
   "cell_type": "code",
   "execution_count": 5,
   "metadata": {},
   "outputs": [
    {
     "name": "stderr",
     "output_type": "stream",
     "text": [
      "2022-03-20 22:49:48.835879: I tensorflow/core/platform/cpu_feature_guard.cc:151] This TensorFlow binary is optimized with oneAPI Deep Neural Network Library (oneDNN) to use the following CPU instructions in performance-critical operations:  AVX2 FMA\n",
      "To enable them in other operations, rebuild TensorFlow with the appropriate compiler flags.\n"
     ]
    },
    {
     "name": "stdout",
     "output_type": "stream",
     "text": [
      "Model: \"sequential\"\n",
      "_________________________________________________________________\n",
      " Layer (type)                Output Shape              Param #   \n",
      "=================================================================\n",
      " conv2d (Conv2D)             (None, 32, 32, 32)        896       \n",
      "                                                                 \n",
      " activation (Activation)     (None, 32, 32, 32)        0         \n",
      "                                                                 \n",
      " conv2d_1 (Conv2D)           (None, 30, 30, 32)        9248      \n",
      "                                                                 \n",
      " activation_1 (Activation)   (None, 30, 30, 32)        0         \n",
      "                                                                 \n",
      " max_pooling2d (MaxPooling2D  (None, 15, 15, 32)       0         \n",
      " )                                                               \n",
      "                                                                 \n",
      " dropout (Dropout)           (None, 15, 15, 32)        0         \n",
      "                                                                 \n",
      " conv2d_2 (Conv2D)           (None, 15, 15, 64)        18496     \n",
      "                                                                 \n",
      " activation_2 (Activation)   (None, 15, 15, 64)        0         \n",
      "                                                                 \n",
      " conv2d_3 (Conv2D)           (None, 13, 13, 64)        36928     \n",
      "                                                                 \n",
      " activation_3 (Activation)   (None, 13, 13, 64)        0         \n",
      "                                                                 \n",
      " max_pooling2d_1 (MaxPooling  (None, 6, 6, 64)         0         \n",
      " 2D)                                                             \n",
      "                                                                 \n",
      " dropout_1 (Dropout)         (None, 6, 6, 64)          0         \n",
      "                                                                 \n",
      " flatten (Flatten)           (None, 2304)              0         \n",
      "                                                                 \n",
      " dense (Dense)               (None, 512)               1180160   \n",
      "                                                                 \n",
      " activation_4 (Activation)   (None, 512)               0         \n",
      "                                                                 \n",
      " dropout_2 (Dropout)         (None, 512)               0         \n",
      "                                                                 \n",
      " dense_1 (Dense)             (None, 10)                5130      \n",
      "                                                                 \n",
      " activation_5 (Activation)   (None, 10)                0         \n",
      "                                                                 \n",
      "=================================================================\n",
      "Total params: 1,250,858\n",
      "Trainable params: 1,250,858\n",
      "Non-trainable params: 0\n",
      "_________________________________________________________________\n"
     ]
    }
   ],
   "source": [
    "# Setting up the Sequential model\n",
    "\n",
    "model = Sequential()\n",
    "\n",
    "# Adding the Conv2D model with relu activaiton setting\n",
    "model.add(Conv2D(32, (3, 3), padding = 'SAME', input_shape = x_train.shape[1:]))\n",
    "model.add(Activation('relu'))\n",
    "model.add(Conv2D(32, (3, 3)))\n",
    "model.add(Activation('relu'))\n",
    "model.add(MaxPooling2D(pool_size = (2, 2)))\n",
    "model.add(Dropout(0.25))\n",
    "\n",
    "model.add(Conv2D(64, (3, 3), padding = 'SAME'))\n",
    "model.add(Activation('relu'))\n",
    "model.add(Conv2D(64, (3, 3)))\n",
    "model.add(Activation('relu'))\n",
    "model.add(MaxPooling2D(pool_size = (2, 2)))\n",
    "model.add(Dropout(0.25))\n",
    "\n",
    "model.add(Flatten())\n",
    "model.add(Dense(512))\n",
    "model.add(Activation('relu'))\n",
    "model.add(Dropout(0.5))\n",
    "model.add(Dense(10))\n",
    "model.add(Activation('softmax'))\n",
    "\n",
    "model.summary()"
   ]
  },
  {
   "cell_type": "code",
   "execution_count": 6,
   "metadata": {},
   "outputs": [
    {
     "name": "stdout",
     "output_type": "stream",
     "text": [
      "Epoch 1/100\n",
      "13/13 [==============================] - 158s 12s/step - loss: 2.3070 - accuracy: 0.1007\n",
      "Epoch 2/100\n",
      "13/13 [==============================] - 142s 11s/step - loss: 2.3065 - accuracy: 0.1012\n",
      "Epoch 3/100\n",
      "13/13 [==============================] - 126s 10s/step - loss: 2.3066 - accuracy: 0.0998\n",
      "Epoch 4/100\n",
      "13/13 [==============================] - 118s 9s/step - loss: 2.3067 - accuracy: 0.1009\n",
      "Epoch 5/100\n",
      "13/13 [==============================] - 105s 8s/step - loss: 2.3064 - accuracy: 0.0997\n",
      "Epoch 6/100\n",
      "13/13 [==============================] - 100s 8s/step - loss: 2.3065 - accuracy: 0.0990\n",
      "Epoch 7/100\n",
      "13/13 [==============================] - 118s 9s/step - loss: 2.3056 - accuracy: 0.1006\n",
      "Epoch 8/100\n",
      "13/13 [==============================] - 106s 8s/step - loss: 2.3066 - accuracy: 0.0986\n",
      "Epoch 9/100\n",
      "13/13 [==============================] - 101s 8s/step - loss: 2.3060 - accuracy: 0.0991\n",
      "Epoch 10/100\n",
      "13/13 [==============================] - 98s 7s/step - loss: 2.3059 - accuracy: 0.0989\n",
      "Epoch 11/100\n",
      "13/13 [==============================] - 103s 8s/step - loss: 2.3058 - accuracy: 0.1000\n",
      "Epoch 12/100\n",
      "13/13 [==============================] - 156s 12s/step - loss: 2.3056 - accuracy: 0.1018\n",
      "Epoch 13/100\n",
      "13/13 [==============================] - 221s 17s/step - loss: 2.3051 - accuracy: 0.1008\n",
      "Epoch 14/100\n",
      "13/13 [==============================] - 116s 8s/step - loss: 2.3047 - accuracy: 0.1027\n",
      "Epoch 15/100\n",
      "13/13 [==============================] - 149s 12s/step - loss: 2.3043 - accuracy: 0.1018\n",
      "Epoch 16/100\n",
      "13/13 [==============================] - 112s 9s/step - loss: 2.3047 - accuracy: 0.1003\n",
      "Epoch 17/100\n",
      "13/13 [==============================] - 100s 8s/step - loss: 2.3041 - accuracy: 0.1015\n",
      "Epoch 18/100\n",
      "13/13 [==============================] - 157s 12s/step - loss: 2.3039 - accuracy: 0.1015\n",
      "Epoch 19/100\n",
      "13/13 [==============================] - 240s 18s/step - loss: 2.3041 - accuracy: 0.1020\n",
      "Epoch 20/100\n",
      "13/13 [==============================] - 283s 22s/step - loss: 2.3038 - accuracy: 0.1029\n",
      "Epoch 21/100\n",
      "13/13 [==============================] - 197s 15s/step - loss: 2.3038 - accuracy: 0.1013\n",
      "Epoch 22/100\n",
      "13/13 [==============================] - 167s 13s/step - loss: 2.3045 - accuracy: 0.0989\n",
      "Epoch 23/100\n",
      "13/13 [==============================] - 219s 17s/step - loss: 2.3029 - accuracy: 0.1026\n",
      "Epoch 24/100\n",
      "13/13 [==============================] - 200s 15s/step - loss: 2.3035 - accuracy: 0.1008\n",
      "Epoch 25/100\n",
      "13/13 [==============================] - 303s 23s/step - loss: 2.3037 - accuracy: 0.1011\n",
      "Epoch 26/100\n",
      "10/13 [======================>.......] - ETA: 1:19 - loss: 2.3032 - accuracy: 0.1022"
     ]
    }
   ],
   "source": [
    "# Importing Tensorflow and compiling the model\n",
    "import tensorflow as tf \n",
    "model.compile(optimizer=tf.keras.optimizers.Adadelta(),\n",
    "\t\t\tloss=keras.losses.categorical_crossentropy,\n",
    "\t\t\tmetrics=['accuracy'])\n",
    "\n",
    "model.fit(x_train, y_train, epochs=100, batch_size=4000)"
   ]
  },
  {
   "cell_type": "code",
   "execution_count": null,
   "metadata": {},
   "outputs": [],
   "source": [
    "# Printing loss and accuracy\n",
    "score = model.evaluate(x_test, y_test, verbose=0)\n",
    "print('loss =', score[0])\n",
    "print('accuracy =', score[1])"
   ]
  }
 ],
 "metadata": {
  "interpreter": {
   "hash": "aee8b7b246df8f9039afb4144a1f6fd8d2ca17a180786b69acc140d282b71a49"
  },
  "kernelspec": {
   "display_name": "Python 3.10.0 64-bit",
   "language": "python",
   "name": "python3"
  },
  "language_info": {
   "codemirror_mode": {
    "name": "ipython",
    "version": 3
   },
   "file_extension": ".py",
   "mimetype": "text/x-python",
   "name": "python",
   "nbconvert_exporter": "python",
   "pygments_lexer": "ipython3",
   "version": "3.10.0"
  },
  "orig_nbformat": 4
 },
 "nbformat": 4,
 "nbformat_minor": 2
}
